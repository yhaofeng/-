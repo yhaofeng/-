{
 "cells": [
  {
   "cell_type": "code",
   "execution_count": 1,
   "metadata": {},
   "outputs": [],
   "source": [
    "import numpy as np\n",
    "import pandas as pd\n",
    "import lightgbm as lgb\n",
    "from sklearn.model_selection import train_test_split\n",
    "import matplotlib.pyplot as plt"
   ]
  },
  {
   "cell_type": "code",
   "execution_count": 30,
   "metadata": {},
   "outputs": [
    {
     "data": {
      "text/html": [
       "<div>\n",
       "<style scoped>\n",
       "    .dataframe tbody tr th:only-of-type {\n",
       "        vertical-align: middle;\n",
       "    }\n",
       "\n",
       "    .dataframe tbody tr th {\n",
       "        vertical-align: top;\n",
       "    }\n",
       "\n",
       "    .dataframe thead th {\n",
       "        text-align: right;\n",
       "    }\n",
       "</style>\n",
       "<table border=\"1\" class=\"dataframe\">\n",
       "  <thead>\n",
       "    <tr style=\"text-align: right;\">\n",
       "      <th></th>\n",
       "      <th>Sulfur_content_of_raw_material</th>\n",
       "      <th>RON_of_raw_material</th>\n",
       "      <th>Saturated_hydrocarbon</th>\n",
       "      <th>olefin</th>\n",
       "      <th>Bromine</th>\n",
       "      <th>density</th>\n",
       "      <th>Substitute_coke</th>\n",
       "      <th>Substitute_S</th>\n",
       "      <th>Regenerated_coke</th>\n",
       "      <th>Regenerated_S</th>\n",
       "      <th>...</th>\n",
       "      <th>S-ZORB.CAL_1.CANGLIANG.PV</th>\n",
       "      <th>S-ZORB.FT_1006.DACA.PV</th>\n",
       "      <th>S-ZORB.FT_5204.DACA.PV</th>\n",
       "      <th>S-ZORB.FT_1006.TOTALIZERA.PV</th>\n",
       "      <th>S-ZORB.FT_5204.TOTALIZERA.PV</th>\n",
       "      <th>S-ZORB.FT_1503.DACA.PV</th>\n",
       "      <th>S-ZORB.FT_1503.TOTALIZERA.PV</th>\n",
       "      <th>S-ZORB.FT_1504.DACA.PV</th>\n",
       "      <th>S-ZORB.FT_1504.TOTALIZERA.PV</th>\n",
       "      <th>S-ZORB.PC_1001A.PV</th>\n",
       "    </tr>\n",
       "  </thead>\n",
       "  <tbody>\n",
       "    <tr>\n",
       "      <th>0</th>\n",
       "      <td>188.0</td>\n",
       "      <td>90.6</td>\n",
       "      <td>53.23</td>\n",
       "      <td>24.40</td>\n",
       "      <td>61.49</td>\n",
       "      <td>726.09</td>\n",
       "      <td>2.32</td>\n",
       "      <td>7.30</td>\n",
       "      <td>1.84</td>\n",
       "      <td>5.98</td>\n",
       "      <td>...</td>\n",
       "      <td>2.0454</td>\n",
       "      <td>6368.7470</td>\n",
       "      <td>233.3108</td>\n",
       "      <td>83086802.0</td>\n",
       "      <td>832503.795</td>\n",
       "      <td>2216.4094</td>\n",
       "      <td>39063124.5</td>\n",
       "      <td>1840.1447</td>\n",
       "      <td>39608757.0</td>\n",
       "      <td>0.3533</td>\n",
       "    </tr>\n",
       "    <tr>\n",
       "      <th>1</th>\n",
       "      <td>169.0</td>\n",
       "      <td>90.5</td>\n",
       "      <td>52.30</td>\n",
       "      <td>26.40</td>\n",
       "      <td>61.88</td>\n",
       "      <td>731.30</td>\n",
       "      <td>2.37</td>\n",
       "      <td>7.34</td>\n",
       "      <td>0.55</td>\n",
       "      <td>4.38</td>\n",
       "      <td>...</td>\n",
       "      <td>2.0260</td>\n",
       "      <td>6360.6453</td>\n",
       "      <td>242.3692</td>\n",
       "      <td>82318954.0</td>\n",
       "      <td>803462.665</td>\n",
       "      <td>2370.5874</td>\n",
       "      <td>38810581.5</td>\n",
       "      <td>1641.7326</td>\n",
       "      <td>39389299.0</td>\n",
       "      <td>0.3545</td>\n",
       "    </tr>\n",
       "    <tr>\n",
       "      <th>2</th>\n",
       "      <td>177.0</td>\n",
       "      <td>90.7</td>\n",
       "      <td>52.30</td>\n",
       "      <td>26.31</td>\n",
       "      <td>61.72</td>\n",
       "      <td>729.61</td>\n",
       "      <td>2.43</td>\n",
       "      <td>7.27</td>\n",
       "      <td>1.89</td>\n",
       "      <td>5.82</td>\n",
       "      <td>...</td>\n",
       "      <td>1.9647</td>\n",
       "      <td>6504.9649</td>\n",
       "      <td>233.0769</td>\n",
       "      <td>82012004.0</td>\n",
       "      <td>791925.055</td>\n",
       "      <td>2326.4654</td>\n",
       "      <td>38693812.0</td>\n",
       "      <td>1600.6758</td>\n",
       "      <td>39312616.5</td>\n",
       "      <td>0.3502</td>\n",
       "    </tr>\n",
       "    <tr>\n",
       "      <th>3</th>\n",
       "      <td>159.0</td>\n",
       "      <td>90.4</td>\n",
       "      <td>52.30</td>\n",
       "      <td>26.10</td>\n",
       "      <td>61.33</td>\n",
       "      <td>725.40</td>\n",
       "      <td>3.08</td>\n",
       "      <td>7.35</td>\n",
       "      <td>0.98</td>\n",
       "      <td>4.67</td>\n",
       "      <td>...</td>\n",
       "      <td>2.0390</td>\n",
       "      <td>6506.8250</td>\n",
       "      <td>238.3499</td>\n",
       "      <td>81231373.5</td>\n",
       "      <td>762863.810</td>\n",
       "      <td>2495.2236</td>\n",
       "      <td>38410862.5</td>\n",
       "      <td>1563.7122</td>\n",
       "      <td>39120204.5</td>\n",
       "      <td>0.3539</td>\n",
       "    </tr>\n",
       "    <tr>\n",
       "      <th>4</th>\n",
       "      <td>173.0</td>\n",
       "      <td>89.6</td>\n",
       "      <td>52.24</td>\n",
       "      <td>26.67</td>\n",
       "      <td>61.33</td>\n",
       "      <td>725.43</td>\n",
       "      <td>2.45</td>\n",
       "      <td>6.58</td>\n",
       "      <td>0.83</td>\n",
       "      <td>4.52</td>\n",
       "      <td>...</td>\n",
       "      <td>1.9869</td>\n",
       "      <td>6560.2423</td>\n",
       "      <td>236.5762</td>\n",
       "      <td>80915707.5</td>\n",
       "      <td>751362.300</td>\n",
       "      <td>2807.7891</td>\n",
       "      <td>38283000.0</td>\n",
       "      <td>1554.3574</td>\n",
       "      <td>39045953.5</td>\n",
       "      <td>0.3581</td>\n",
       "    </tr>\n",
       "  </tbody>\n",
       "</table>\n",
       "<p>5 rows × 354 columns</p>\n",
       "</div>"
      ],
      "text/plain": [
       "   Sulfur_content_of_raw_material  RON_of_raw_material  Saturated_hydrocarbon  \\\n",
       "0                           188.0                 90.6                  53.23   \n",
       "1                           169.0                 90.5                  52.30   \n",
       "2                           177.0                 90.7                  52.30   \n",
       "3                           159.0                 90.4                  52.30   \n",
       "4                           173.0                 89.6                  52.24   \n",
       "\n",
       "   olefin  Bromine  density  Substitute_coke  Substitute_S  Regenerated_coke  \\\n",
       "0   24.40    61.49   726.09             2.32          7.30              1.84   \n",
       "1   26.40    61.88   731.30             2.37          7.34              0.55   \n",
       "2   26.31    61.72   729.61             2.43          7.27              1.89   \n",
       "3   26.10    61.33   725.40             3.08          7.35              0.98   \n",
       "4   26.67    61.33   725.43             2.45          6.58              0.83   \n",
       "\n",
       "   Regenerated_S  ...  S-ZORB.CAL_1.CANGLIANG.PV  S-ZORB.FT_1006.DACA.PV  \\\n",
       "0           5.98  ...                     2.0454               6368.7470   \n",
       "1           4.38  ...                     2.0260               6360.6453   \n",
       "2           5.82  ...                     1.9647               6504.9649   \n",
       "3           4.67  ...                     2.0390               6506.8250   \n",
       "4           4.52  ...                     1.9869               6560.2423   \n",
       "\n",
       "   S-ZORB.FT_5204.DACA.PV  S-ZORB.FT_1006.TOTALIZERA.PV  \\\n",
       "0                233.3108                    83086802.0   \n",
       "1                242.3692                    82318954.0   \n",
       "2                233.0769                    82012004.0   \n",
       "3                238.3499                    81231373.5   \n",
       "4                236.5762                    80915707.5   \n",
       "\n",
       "   S-ZORB.FT_5204.TOTALIZERA.PV  S-ZORB.FT_1503.DACA.PV  \\\n",
       "0                    832503.795               2216.4094   \n",
       "1                    803462.665               2370.5874   \n",
       "2                    791925.055               2326.4654   \n",
       "3                    762863.810               2495.2236   \n",
       "4                    751362.300               2807.7891   \n",
       "\n",
       "   S-ZORB.FT_1503.TOTALIZERA.PV  S-ZORB.FT_1504.DACA.PV  \\\n",
       "0                    39063124.5               1840.1447   \n",
       "1                    38810581.5               1641.7326   \n",
       "2                    38693812.0               1600.6758   \n",
       "3                    38410862.5               1563.7122   \n",
       "4                    38283000.0               1554.3574   \n",
       "\n",
       "   S-ZORB.FT_1504.TOTALIZERA.PV  S-ZORB.PC_1001A.PV  \n",
       "0                    39608757.0              0.3533  \n",
       "1                    39389299.0              0.3545  \n",
       "2                    39312616.5              0.3502  \n",
       "3                    39120204.5              0.3539  \n",
       "4                    39045953.5              0.3581  \n",
       "\n",
       "[5 rows x 354 columns]"
      ]
     },
     "execution_count": 30,
     "metadata": {},
     "output_type": "execute_result"
    }
   ],
   "source": [
    "X = pd.read_csv('independent_variable.csv')\n",
    "X.head()"
   ]
  },
  {
   "cell_type": "code",
   "execution_count": 31,
   "metadata": {},
   "outputs": [],
   "source": [
    "y = pd.read_csv('dependent_variable.csv').values.reshape(-1)"
   ]
  },
  {
   "cell_type": "code",
   "execution_count": 32,
   "metadata": {},
   "outputs": [],
   "source": [
    "from sklearn.model_selection import train_test_split\n",
    "\n",
    "X_train, X_valid, y_train, y_valid = train_test_split(X, y, test_size=0.2, random_state=42)"
   ]
  },
  {
   "cell_type": "code",
   "execution_count": 33,
   "metadata": {},
   "outputs": [
    {
     "name": "stdout",
     "output_type": "stream",
     "text": [
      "Training until validation scores don't improve for 1000 rounds\n",
      "[25]\ttraining's l2: 0.66056\tvalid_1's l2: 0.566322\n",
      "[50]\ttraining's l2: 0.4606\tvalid_1's l2: 0.401451\n",
      "[75]\ttraining's l2: 0.32446\tvalid_1's l2: 0.286359\n",
      "[100]\ttraining's l2: 0.241442\tvalid_1's l2: 0.217818\n",
      "[125]\ttraining's l2: 0.172217\tvalid_1's l2: 0.160867\n",
      "[150]\ttraining's l2: 0.13036\tvalid_1's l2: 0.126008\n",
      "[175]\ttraining's l2: 0.104914\tvalid_1's l2: 0.10461\n",
      "[200]\ttraining's l2: 0.0864328\tvalid_1's l2: 0.0896023\n",
      "[225]\ttraining's l2: 0.0741977\tvalid_1's l2: 0.0806827\n",
      "[250]\ttraining's l2: 0.0650714\tvalid_1's l2: 0.0740637\n",
      "[275]\ttraining's l2: 0.0587763\tvalid_1's l2: 0.0696288\n",
      "[300]\ttraining's l2: 0.0542152\tvalid_1's l2: 0.0681242\n",
      "[325]\ttraining's l2: 0.0506377\tvalid_1's l2: 0.0658301\n",
      "[350]\ttraining's l2: 0.0477002\tvalid_1's l2: 0.064252\n",
      "[375]\ttraining's l2: 0.0449524\tvalid_1's l2: 0.0629239\n",
      "[400]\ttraining's l2: 0.042517\tvalid_1's l2: 0.0619457\n",
      "[425]\ttraining's l2: 0.0403522\tvalid_1's l2: 0.0611113\n",
      "[450]\ttraining's l2: 0.0384826\tvalid_1's l2: 0.0605242\n",
      "[475]\ttraining's l2: 0.0365968\tvalid_1's l2: 0.0595862\n",
      "[500]\ttraining's l2: 0.035035\tvalid_1's l2: 0.0594731\n",
      "[525]\ttraining's l2: 0.033485\tvalid_1's l2: 0.0592326\n",
      "[550]\ttraining's l2: 0.0325124\tvalid_1's l2: 0.0587382\n",
      "[575]\ttraining's l2: 0.0310452\tvalid_1's l2: 0.0583597\n",
      "[600]\ttraining's l2: 0.0297115\tvalid_1's l2: 0.0576184\n",
      "[625]\ttraining's l2: 0.0285755\tvalid_1's l2: 0.0570587\n",
      "[650]\ttraining's l2: 0.0276538\tvalid_1's l2: 0.0571019\n",
      "[675]\ttraining's l2: 0.0266856\tvalid_1's l2: 0.0569322\n",
      "[700]\ttraining's l2: 0.0256838\tvalid_1's l2: 0.0567871\n",
      "[725]\ttraining's l2: 0.0246988\tvalid_1's l2: 0.0569091\n",
      "[750]\ttraining's l2: 0.023858\tvalid_1's l2: 0.0568624\n",
      "[775]\ttraining's l2: 0.0231149\tvalid_1's l2: 0.056905\n",
      "[800]\ttraining's l2: 0.0225066\tvalid_1's l2: 0.0571139\n",
      "[825]\ttraining's l2: 0.0215642\tvalid_1's l2: 0.0568777\n",
      "[850]\ttraining's l2: 0.0207784\tvalid_1's l2: 0.0567353\n",
      "[875]\ttraining's l2: 0.0200717\tvalid_1's l2: 0.0568289\n",
      "[900]\ttraining's l2: 0.0194105\tvalid_1's l2: 0.0568461\n",
      "[925]\ttraining's l2: 0.0188588\tvalid_1's l2: 0.0570184\n",
      "[950]\ttraining's l2: 0.0183463\tvalid_1's l2: 0.0571771\n",
      "[975]\ttraining's l2: 0.0177387\tvalid_1's l2: 0.0575606\n",
      "[1000]\ttraining's l2: 0.0171139\tvalid_1's l2: 0.0573774\n",
      "[1025]\ttraining's l2: 0.0167018\tvalid_1's l2: 0.0577413\n",
      "[1050]\ttraining's l2: 0.0162871\tvalid_1's l2: 0.0580417\n",
      "[1075]\ttraining's l2: 0.0158433\tvalid_1's l2: 0.0581156\n",
      "[1100]\ttraining's l2: 0.0153786\tvalid_1's l2: 0.0578588\n",
      "[1125]\ttraining's l2: 0.0149615\tvalid_1's l2: 0.0578444\n",
      "[1150]\ttraining's l2: 0.0145355\tvalid_1's l2: 0.0577332\n",
      "[1175]\ttraining's l2: 0.0141254\tvalid_1's l2: 0.0578841\n",
      "[1200]\ttraining's l2: 0.0137667\tvalid_1's l2: 0.0575913\n",
      "[1225]\ttraining's l2: 0.013417\tvalid_1's l2: 0.0574825\n",
      "[1250]\ttraining's l2: 0.013175\tvalid_1's l2: 0.0578278\n",
      "[1275]\ttraining's l2: 0.0129297\tvalid_1's l2: 0.0581159\n",
      "[1300]\ttraining's l2: 0.0126227\tvalid_1's l2: 0.0581045\n",
      "[1325]\ttraining's l2: 0.0122857\tvalid_1's l2: 0.0582705\n",
      "[1350]\ttraining's l2: 0.0119427\tvalid_1's l2: 0.0581018\n",
      "[1375]\ttraining's l2: 0.0116268\tvalid_1's l2: 0.0579986\n",
      "[1400]\ttraining's l2: 0.0113508\tvalid_1's l2: 0.058044\n",
      "[1425]\ttraining's l2: 0.0110697\tvalid_1's l2: 0.0581878\n",
      "[1450]\ttraining's l2: 0.0107389\tvalid_1's l2: 0.0581661\n",
      "[1475]\ttraining's l2: 0.0105262\tvalid_1's l2: 0.0580954\n",
      "[1500]\ttraining's l2: 0.0103794\tvalid_1's l2: 0.0583831\n",
      "[1525]\ttraining's l2: 0.0101736\tvalid_1's l2: 0.0583666\n",
      "[1550]\ttraining's l2: 0.00988298\tvalid_1's l2: 0.0582795\n",
      "[1575]\ttraining's l2: 0.00966071\tvalid_1's l2: 0.0581487\n",
      "[1600]\ttraining's l2: 0.00947016\tvalid_1's l2: 0.0582625\n",
      "[1625]\ttraining's l2: 0.00919144\tvalid_1's l2: 0.0583559\n",
      "[1650]\ttraining's l2: 0.00893508\tvalid_1's l2: 0.0584752\n",
      "[1675]\ttraining's l2: 0.00875067\tvalid_1's l2: 0.0585164\n",
      "[1700]\ttraining's l2: 0.00852721\tvalid_1's l2: 0.058489\n",
      "Early stopping, best iteration is:\n",
      "[705]\ttraining's l2: 0.0254639\tvalid_1's l2: 0.056669\n"
     ]
    }
   ],
   "source": [
    "param = {'boosting_type':'gbdt',\n",
    "         'objective' : 'regression', #任务类型\n",
    "         'metric' : 'mse', #评估指标\n",
    "         'learning_rate' : 0.01, #学习率\n",
    "         'max_depth' : 20, #树的最大深度\n",
    "         'feature_fraction':0.8, #设置在每次迭代中使用特征的比例\n",
    "         'bagging_fraction': 0.8, #样本采样比例\n",
    "         'bagging_freq': 8, #bagging的次数\n",
    "         'lambda_l1': 0.3, #L1正则\n",
    "          'lambda_l2': 0, #L2正则\n",
    "        }\n",
    "x = X_train[['S-ZORB.PC_1001A.PV',\n",
    " 'S-ZORB.FC_1201.PV',\n",
    " 'S-ZORB.PT_1604.DACA',\n",
    " 'S-ZORB.FT_1001.PV',\n",
    " 'S-ZORB.FT_3702.DACA',\n",
    " 'S-ZORB.LT_1002.DACA',\n",
    " 'S-ZORB.TE_1501.DACA',\n",
    " 'S-ZORB.TE_5008.DACA',\n",
    " 'S-ZORB.TE_1105.PV',\n",
    " 'S-ZORB.FT_1504.DACA.PV',\n",
    " 'S-ZORB.PDT_2606.DACA',\n",
    " 'S-ZORB.FC_1203.PV',\n",
    " 'S-ZORB.TE_5202.PV',\n",
    " 'S-ZORB.FC_5001.DACA',\n",
    " 'S-ZORB.FT_1003.PV',\n",
    " 'S-ZORB.FT_9301.PV',\n",
    " 'RON_of_raw_material']]\n",
    "x1 = X_valid[['S-ZORB.PC_1001A.PV',\n",
    " 'S-ZORB.FC_1201.PV',\n",
    " 'S-ZORB.PT_1604.DACA',\n",
    " 'S-ZORB.FT_1001.PV',\n",
    " 'S-ZORB.FT_3702.DACA',\n",
    " 'S-ZORB.LT_1002.DACA',\n",
    " 'S-ZORB.TE_1501.DACA',\n",
    " 'S-ZORB.TE_5008.DACA',\n",
    " 'S-ZORB.TE_1105.PV',\n",
    " 'S-ZORB.FT_1504.DACA.PV',\n",
    " 'S-ZORB.PDT_2606.DACA',\n",
    " 'S-ZORB.FC_1203.PV',\n",
    " 'S-ZORB.TE_5202.PV',\n",
    " 'S-ZORB.FC_5001.DACA',\n",
    " 'S-ZORB.FT_1003.PV',\n",
    " 'S-ZORB.FT_9301.PV',\n",
    " 'RON_of_raw_material']]\n",
    "trn_data = lgb.Dataset(x, label=y_train)\n",
    "val_data = lgb.Dataset(x1, label=y_valid)\n",
    "model_RON = lgb.train(param,trn_data,valid_sets=[trn_data,val_data],\\\n",
    "                  num_boost_round = 100000,early_stopping_rounds=1000,verbose_eval=25)"
   ]
  },
  {
   "cell_type": "code",
   "execution_count": 34,
   "metadata": {},
   "outputs": [],
   "source": [
    "data = pd.read_csv('data_final.csv')\n",
    "data.head()\n",
    "y_Sulfur = data.产品硫含量.values"
   ]
  },
  {
   "cell_type": "code",
   "execution_count": 35,
   "metadata": {},
   "outputs": [],
   "source": [
    "y_train_Sulfur = data.产品硫含量[X_train.index].values"
   ]
  },
  {
   "cell_type": "code",
   "execution_count": 36,
   "metadata": {},
   "outputs": [],
   "source": [
    "y_valid_Sulfur = data.产品硫含量[X_valid.index].values"
   ]
  },
  {
   "cell_type": "code",
   "execution_count": 37,
   "metadata": {},
   "outputs": [
    {
     "name": "stdout",
     "output_type": "stream",
     "text": [
      "Training until validation scores don't improve for 1000 rounds\n",
      "[25]\ttraining's l2: 2.29102\tvalid_1's l2: 1.57948\n",
      "[50]\ttraining's l2: 2.07229\tvalid_1's l2: 1.5881\n",
      "[75]\ttraining's l2: 1.90466\tvalid_1's l2: 1.61689\n",
      "[100]\ttraining's l2: 1.78793\tvalid_1's l2: 1.64526\n",
      "[125]\ttraining's l2: 1.67552\tvalid_1's l2: 1.68792\n",
      "[150]\ttraining's l2: 1.58401\tvalid_1's l2: 1.72029\n",
      "[175]\ttraining's l2: 1.4927\tvalid_1's l2: 1.78023\n",
      "[200]\ttraining's l2: 1.41174\tvalid_1's l2: 1.78625\n",
      "[225]\ttraining's l2: 1.34957\tvalid_1's l2: 1.83582\n",
      "[250]\ttraining's l2: 1.28637\tvalid_1's l2: 1.8564\n",
      "[275]\ttraining's l2: 1.22649\tvalid_1's l2: 1.8737\n",
      "[300]\ttraining's l2: 1.17186\tvalid_1's l2: 1.86871\n",
      "[325]\ttraining's l2: 1.12344\tvalid_1's l2: 1.89229\n",
      "[350]\ttraining's l2: 1.07858\tvalid_1's l2: 1.91374\n",
      "[375]\ttraining's l2: 1.04265\tvalid_1's l2: 1.9429\n",
      "[400]\ttraining's l2: 1.00295\tvalid_1's l2: 1.96292\n",
      "[425]\ttraining's l2: 0.959\tvalid_1's l2: 1.96578\n",
      "[450]\ttraining's l2: 0.92506\tvalid_1's l2: 1.93527\n",
      "[475]\ttraining's l2: 0.889228\tvalid_1's l2: 1.92739\n",
      "[500]\ttraining's l2: 0.855959\tvalid_1's l2: 1.93438\n",
      "[525]\ttraining's l2: 0.824184\tvalid_1's l2: 1.93094\n",
      "[550]\ttraining's l2: 0.791962\tvalid_1's l2: 1.92558\n",
      "[575]\ttraining's l2: 0.763344\tvalid_1's l2: 1.95085\n",
      "[600]\ttraining's l2: 0.739474\tvalid_1's l2: 1.9634\n",
      "[625]\ttraining's l2: 0.712219\tvalid_1's l2: 1.98101\n",
      "[650]\ttraining's l2: 0.692378\tvalid_1's l2: 1.98446\n",
      "[675]\ttraining's l2: 0.667705\tvalid_1's l2: 1.98098\n",
      "[700]\ttraining's l2: 0.644488\tvalid_1's l2: 1.97329\n",
      "[725]\ttraining's l2: 0.626975\tvalid_1's l2: 1.9834\n",
      "[750]\ttraining's l2: 0.607431\tvalid_1's l2: 1.97646\n",
      "[775]\ttraining's l2: 0.589568\tvalid_1's l2: 1.96634\n",
      "[800]\ttraining's l2: 0.57243\tvalid_1's l2: 1.93168\n",
      "[825]\ttraining's l2: 0.55481\tvalid_1's l2: 1.92902\n",
      "[850]\ttraining's l2: 0.539369\tvalid_1's l2: 1.93317\n",
      "[875]\ttraining's l2: 0.525204\tvalid_1's l2: 1.93098\n",
      "[900]\ttraining's l2: 0.51394\tvalid_1's l2: 1.92755\n",
      "[925]\ttraining's l2: 0.499918\tvalid_1's l2: 1.92276\n",
      "[950]\ttraining's l2: 0.488076\tvalid_1's l2: 1.91995\n",
      "[975]\ttraining's l2: 0.473804\tvalid_1's l2: 1.93856\n",
      "[1000]\ttraining's l2: 0.4587\tvalid_1's l2: 1.9443\n",
      "[1025]\ttraining's l2: 0.444334\tvalid_1's l2: 1.97109\n",
      "Early stopping, best iteration is:\n",
      "[40]\ttraining's l2: 2.15815\tvalid_1's l2: 1.57018\n"
     ]
    }
   ],
   "source": [
    "trn_data_Sulfur = lgb.Dataset(x, label=y_train_Sulfur)\n",
    "val_data_Sulfur = lgb.Dataset(x1, label=y_valid_Sulfur)\n",
    "model_Sulfur = lgb.train(param,trn_data_Sulfur,valid_sets=[trn_data_Sulfur,val_data_Sulfur],\\\n",
    "                  num_boost_round = 100000,early_stopping_rounds=1000,verbose_eval=25)"
   ]
  },
  {
   "cell_type": "code",
   "execution_count": 38,
   "metadata": {},
   "outputs": [],
   "source": [
    "np.random.seed(1000)"
   ]
  },
  {
   "cell_type": "code",
   "execution_count": 39,
   "metadata": {},
   "outputs": [],
   "source": [
    "bound = [(-125,0.5),(75,150),(0.1,0.3),(40,145),(0,60),(-5,2),(20,30),(40,100),(40,80),(-14000,3500),\\\n",
    "         (-0.5,20),(5,15),(30,45),(500,3800),(0,75),(0,3500)]"
   ]
  },
  {
   "cell_type": "code",
   "execution_count": 136,
   "metadata": {},
   "outputs": [],
   "source": [
    "dic = ['S-ZORB.PC_1001A.PV',\n",
    " 'S-ZORB.FC_1201.PV',\n",
    " 'S-ZORB.PT_1604.DACA',\n",
    " 'S-ZORB.FT_1001.PV',\n",
    " 'S-ZORB.FT_3702.DACA',\n",
    " 'S-ZORB.LT_1002.DACA',\n",
    " 'S-ZORB.TE_1501.DACA',\n",
    " 'S-ZORB.TE_5008.DACA',\n",
    " 'S-ZORB.TE_1105.PV',\n",
    " 'S-ZORB.FT_1504.DACA.PV',\n",
    " 'S-ZORB.PDT_2606.DACA',\n",
    " 'S-ZORB.FC_1203.PV',\n",
    " 'S-ZORB.TE_5202.PV',\n",
    " 'S-ZORB.FC_5001.DACA',\n",
    " 'S-ZORB.FT_1003.PV',\n",
    " 'S-ZORB.FT_9301.PV',\n",
    " 'RON_of_raw_material']"
   ]
  },
  {
   "cell_type": "code",
   "execution_count": 108,
   "metadata": {},
   "outputs": [],
   "source": [
    "ini_pop = pd.DataFrame(columns=dic)"
   ]
  },
  {
   "cell_type": "code",
   "execution_count": 109,
   "metadata": {},
   "outputs": [
    {
     "data": {
      "text/html": [
       "<div>\n",
       "<style scoped>\n",
       "    .dataframe tbody tr th:only-of-type {\n",
       "        vertical-align: middle;\n",
       "    }\n",
       "\n",
       "    .dataframe tbody tr th {\n",
       "        vertical-align: top;\n",
       "    }\n",
       "\n",
       "    .dataframe thead th {\n",
       "        text-align: right;\n",
       "    }\n",
       "</style>\n",
       "<table border=\"1\" class=\"dataframe\">\n",
       "  <thead>\n",
       "    <tr style=\"text-align: right;\">\n",
       "      <th></th>\n",
       "      <th>S-ZORB.PC_1001A.PV</th>\n",
       "      <th>S-ZORB.FC_1201.PV</th>\n",
       "      <th>S-ZORB.PT_1604.DACA</th>\n",
       "      <th>S-ZORB.FT_1001.PV</th>\n",
       "      <th>S-ZORB.FT_3702.DACA</th>\n",
       "      <th>S-ZORB.LT_1002.DACA</th>\n",
       "      <th>S-ZORB.TE_1501.DACA</th>\n",
       "      <th>S-ZORB.TE_5008.DACA</th>\n",
       "      <th>S-ZORB.TE_1105.PV</th>\n",
       "      <th>S-ZORB.FT_1504.DACA.PV</th>\n",
       "      <th>S-ZORB.PDT_2606.DACA</th>\n",
       "      <th>S-ZORB.FC_1203.PV</th>\n",
       "      <th>S-ZORB.TE_5202.PV</th>\n",
       "      <th>S-ZORB.FC_5001.DACA</th>\n",
       "      <th>S-ZORB.FT_1003.PV</th>\n",
       "      <th>S-ZORB.FT_9301.PV</th>\n",
       "      <th>RON_of_raw_material</th>\n",
       "    </tr>\n",
       "  </thead>\n",
       "  <tbody>\n",
       "    <tr>\n",
       "      <th>2</th>\n",
       "      <td>0.3502</td>\n",
       "      <td>129.0354</td>\n",
       "      <td>0.2000</td>\n",
       "      <td>113.0896</td>\n",
       "      <td>41.5372</td>\n",
       "      <td>-4.9690</td>\n",
       "      <td>21.2022</td>\n",
       "      <td>65.3550</td>\n",
       "      <td>54.6989</td>\n",
       "      <td>1600.6758</td>\n",
       "      <td>10.9701</td>\n",
       "      <td>11.5726</td>\n",
       "      <td>32.8114</td>\n",
       "      <td>2117.8925</td>\n",
       "      <td>44.4330</td>\n",
       "      <td>1025.8748</td>\n",
       "      <td>90.7</td>\n",
       "    </tr>\n",
       "    <tr>\n",
       "      <th>217</th>\n",
       "      <td>-49.4848</td>\n",
       "      <td>113.6415</td>\n",
       "      <td>0.1404</td>\n",
       "      <td>129.5721</td>\n",
       "      <td>30.9934</td>\n",
       "      <td>-4.9662</td>\n",
       "      <td>22.8809</td>\n",
       "      <td>52.1678</td>\n",
       "      <td>66.7363</td>\n",
       "      <td>2261.7765</td>\n",
       "      <td>8.4511</td>\n",
       "      <td>11.7275</td>\n",
       "      <td>37.5446</td>\n",
       "      <td>946.3719</td>\n",
       "      <td>54.2460</td>\n",
       "      <td>248.0333</td>\n",
       "      <td>90.7</td>\n",
       "    </tr>\n",
       "    <tr>\n",
       "      <th>218</th>\n",
       "      <td>-49.9980</td>\n",
       "      <td>112.8012</td>\n",
       "      <td>0.1275</td>\n",
       "      <td>128.6126</td>\n",
       "      <td>0.0000</td>\n",
       "      <td>-4.9673</td>\n",
       "      <td>22.8039</td>\n",
       "      <td>50.7857</td>\n",
       "      <td>66.1458</td>\n",
       "      <td>2157.7519</td>\n",
       "      <td>9.1978</td>\n",
       "      <td>12.1065</td>\n",
       "      <td>31.9411</td>\n",
       "      <td>942.1702</td>\n",
       "      <td>53.4162</td>\n",
       "      <td>229.9617</td>\n",
       "      <td>90.7</td>\n",
       "    </tr>\n",
       "    <tr>\n",
       "      <th>245</th>\n",
       "      <td>-73.8609</td>\n",
       "      <td>118.1742</td>\n",
       "      <td>0.1732</td>\n",
       "      <td>128.4482</td>\n",
       "      <td>0.0000</td>\n",
       "      <td>-4.9655</td>\n",
       "      <td>22.5746</td>\n",
       "      <td>59.0285</td>\n",
       "      <td>65.5416</td>\n",
       "      <td>2809.8877</td>\n",
       "      <td>5.5660</td>\n",
       "      <td>10.8697</td>\n",
       "      <td>34.0586</td>\n",
       "      <td>1653.9840</td>\n",
       "      <td>44.5687</td>\n",
       "      <td>1958.8598</td>\n",
       "      <td>90.7</td>\n",
       "    </tr>\n",
       "    <tr>\n",
       "      <th>304</th>\n",
       "      <td>-108.7573</td>\n",
       "      <td>113.6691</td>\n",
       "      <td>0.1312</td>\n",
       "      <td>126.5335</td>\n",
       "      <td>41.3235</td>\n",
       "      <td>-4.9679</td>\n",
       "      <td>21.5159</td>\n",
       "      <td>58.8264</td>\n",
       "      <td>70.3157</td>\n",
       "      <td>2470.0332</td>\n",
       "      <td>1.3340</td>\n",
       "      <td>10.7273</td>\n",
       "      <td>34.6008</td>\n",
       "      <td>1506.3530</td>\n",
       "      <td>56.1530</td>\n",
       "      <td>904.8354</td>\n",
       "      <td>90.7</td>\n",
       "    </tr>\n",
       "  </tbody>\n",
       "</table>\n",
       "</div>"
      ],
      "text/plain": [
       "     S-ZORB.PC_1001A.PV  S-ZORB.FC_1201.PV  S-ZORB.PT_1604.DACA  \\\n",
       "2                0.3502           129.0354               0.2000   \n",
       "217            -49.4848           113.6415               0.1404   \n",
       "218            -49.9980           112.8012               0.1275   \n",
       "245            -73.8609           118.1742               0.1732   \n",
       "304           -108.7573           113.6691               0.1312   \n",
       "\n",
       "     S-ZORB.FT_1001.PV  S-ZORB.FT_3702.DACA  S-ZORB.LT_1002.DACA  \\\n",
       "2             113.0896              41.5372              -4.9690   \n",
       "217           129.5721              30.9934              -4.9662   \n",
       "218           128.6126               0.0000              -4.9673   \n",
       "245           128.4482               0.0000              -4.9655   \n",
       "304           126.5335              41.3235              -4.9679   \n",
       "\n",
       "     S-ZORB.TE_1501.DACA  S-ZORB.TE_5008.DACA  S-ZORB.TE_1105.PV  \\\n",
       "2                21.2022              65.3550            54.6989   \n",
       "217              22.8809              52.1678            66.7363   \n",
       "218              22.8039              50.7857            66.1458   \n",
       "245              22.5746              59.0285            65.5416   \n",
       "304              21.5159              58.8264            70.3157   \n",
       "\n",
       "     S-ZORB.FT_1504.DACA.PV  S-ZORB.PDT_2606.DACA  S-ZORB.FC_1203.PV  \\\n",
       "2                 1600.6758               10.9701            11.5726   \n",
       "217               2261.7765                8.4511            11.7275   \n",
       "218               2157.7519                9.1978            12.1065   \n",
       "245               2809.8877                5.5660            10.8697   \n",
       "304               2470.0332                1.3340            10.7273   \n",
       "\n",
       "     S-ZORB.TE_5202.PV  S-ZORB.FC_5001.DACA  S-ZORB.FT_1003.PV  \\\n",
       "2              32.8114            2117.8925            44.4330   \n",
       "217            37.5446             946.3719            54.2460   \n",
       "218            31.9411             942.1702            53.4162   \n",
       "245            34.0586            1653.9840            44.5687   \n",
       "304            34.6008            1506.3530            56.1530   \n",
       "\n",
       "     S-ZORB.FT_9301.PV  RON_of_raw_material  \n",
       "2            1025.8748                 90.7  \n",
       "217           248.0333                 90.7  \n",
       "218           229.9617                 90.7  \n",
       "245          1958.8598                 90.7  \n",
       "304           904.8354                 90.7  "
      ]
     },
     "execution_count": 109,
     "metadata": {},
     "output_type": "execute_result"
    }
   ],
   "source": [
    "df = X[X['RON_of_raw_material']==90.7][['S-ZORB.PC_1001A.PV',\n",
    " 'S-ZORB.FC_1201.PV',\n",
    " 'S-ZORB.PT_1604.DACA',\n",
    " 'S-ZORB.FT_1001.PV',\n",
    " 'S-ZORB.FT_3702.DACA',\n",
    " 'S-ZORB.LT_1002.DACA',\n",
    " 'S-ZORB.TE_1501.DACA',\n",
    " 'S-ZORB.TE_5008.DACA',\n",
    " 'RON_of_raw_material',\n",
    " 'S-ZORB.TE_1105.PV',\n",
    " 'S-ZORB.FT_1504.DACA.PV',\n",
    " 'S-ZORB.PDT_2606.DACA',\n",
    " 'S-ZORB.FC_1203.PV',\n",
    " 'S-ZORB.TE_5202.PV',\n",
    " 'S-ZORB.FC_5001.DACA',\n",
    " 'S-ZORB.FT_1003.PV',\n",
    " 'S-ZORB.FT_9301.PV']]\n",
    "\n",
    "ini_pop = ini_pop.append(df)\n",
    "ini_pop"
   ]
  },
  {
   "cell_type": "code",
   "execution_count": 110,
   "metadata": {},
   "outputs": [
    {
     "data": {
      "text/plain": [
       "array([89.35472023, 89.47659675, 89.48666613, 89.51785248, 89.30828386])"
      ]
     },
     "execution_count": 110,
     "metadata": {},
     "output_type": "execute_result"
    }
   ],
   "source": [
    "model_RON.predict(ini_pop)"
   ]
  },
  {
   "cell_type": "code",
   "execution_count": 111,
   "metadata": {},
   "outputs": [],
   "source": [
    "nums = ini_pop.iloc[:,:-1].values"
   ]
  },
  {
   "cell_type": "code",
   "execution_count": 112,
   "metadata": {},
   "outputs": [],
   "source": [
    "ron = ini_pop['RON_of_raw_material'].values[:,np.newaxis]"
   ]
  },
  {
   "cell_type": "code",
   "execution_count": 46,
   "metadata": {},
   "outputs": [],
   "source": [
    "def fun(position,ron):\n",
    "    return model_RON.predict(np.concatenate([position,ron],axis=1))"
   ]
  },
  {
   "cell_type": "code",
   "execution_count": 113,
   "metadata": {},
   "outputs": [
    {
     "data": {
      "text/plain": [
       "array([89.35472023, 89.47659675, 89.48666613, 89.51785248, 89.30828386])"
      ]
     },
     "execution_count": 113,
     "metadata": {},
     "output_type": "execute_result"
    }
   ],
   "source": [
    "fun(nums,ron)"
   ]
  },
  {
   "cell_type": "code",
   "execution_count": 114,
   "metadata": {},
   "outputs": [],
   "source": [
    "#初始化化速度\n",
    "def pso(nums,ron,iteration,bound):\n",
    "    m,n = nums.shape\n",
    "    v = np.random.randn(m,n)\n",
    "    fitness = fun(nums,ron)\n",
    "    c1 = c2 = 2\n",
    "    p = nums\n",
    "    pg = nums[np.argmax(fitness)]\n",
    "    individual_best_fitness = fitness\n",
    "    global_best_fitness = np.max(fitness)\n",
    "\n",
    "    for step in range(iteration):\n",
    "        r1 = np.random.rand(m, n)\n",
    "        r2 = np.random.rand(m, n)\n",
    "        # 更新速度和权重\n",
    "        v = 0.6*v+c1*r1*(p-nums)+c2*r2*(pg-nums)\n",
    "        nums = v + nums\n",
    "        for i in range(m):\n",
    "            for j in range(n):\n",
    "                if nums[i,j] < bound[j][0]:\n",
    "                    nums[i,j] = bound[j][0]\n",
    "                elif nums[i,j] > bound[j][1]:\n",
    "                    nums[i,j] = bound[j][1]\n",
    "        fitness = fun(nums,ron)\n",
    "        # 需要更新的个体\n",
    "        update_id = np.less(individual_best_fitness, fitness)\n",
    "        p[update_id] = nums[update_id]\n",
    "        individual_best_fitness[update_id] = fitness[update_id]\n",
    "        # 新一代出现了更小的fitness，所以更新全局最优fitness和位置\n",
    "        if np.max(fitness) > global_best_fitness:\n",
    "            pg = nums[np.argmax(fitness)]\n",
    "            global_best_fitness = np.max(fitness)\n",
    "    return nums"
   ]
  },
  {
   "cell_type": "code",
   "execution_count": 115,
   "metadata": {},
   "outputs": [],
   "source": [
    "position = pso(nums,ron,50000,bound)"
   ]
  },
  {
   "cell_type": "code",
   "execution_count": 116,
   "metadata": {},
   "outputs": [
    {
     "data": {
      "text/plain": [
       "array([4.20353051, 4.20353051, 4.20353051, 4.20353051, 4.20353051])"
      ]
     },
     "execution_count": 116,
     "metadata": {},
     "output_type": "execute_result"
    }
   ],
   "source": [
    "model_Sulfur.predict(np.concatenate([position,ron],axis=1))"
   ]
  },
  {
   "cell_type": "code",
   "execution_count": 117,
   "metadata": {},
   "outputs": [
    {
     "data": {
      "text/plain": [
       "array([89.84036901, 89.83802355, 89.83969235, 89.84089298, 89.8122918 ])"
      ]
     },
     "execution_count": 117,
     "metadata": {},
     "output_type": "execute_result"
    }
   ],
   "source": [
    "fun(position,ron)"
   ]
  },
  {
   "cell_type": "code",
   "execution_count": 118,
   "metadata": {},
   "outputs": [
    {
     "data": {
      "text/plain": [
       "array([89.84089298, 89.84089298, 89.84089298, 89.84089298, 89.84089298])"
      ]
     },
     "execution_count": 118,
     "metadata": {},
     "output_type": "execute_result"
    }
   ],
   "source": [
    "fun(nums,ron)"
   ]
  },
  {
   "cell_type": "code",
   "execution_count": 125,
   "metadata": {},
   "outputs": [
    {
     "data": {
      "text/plain": [
       "2      89.734\n",
       "217    89.846\n",
       "218    89.916\n",
       "245    89.930\n",
       "304    89.874\n",
       "Name: RON_of_raw_material, dtype: float64"
      ]
     },
     "execution_count": 125,
     "metadata": {},
     "output_type": "execute_result"
    }
   ],
   "source": [
    "raw_RON = X['RON_of_raw_material']\n",
    "raw_RON[ini_pop.index]-(raw_RON[ini_pop.index]-y[ini_pop.index])*0.7"
   ]
  },
  {
   "cell_type": "code",
   "execution_count": 129,
   "metadata": {},
   "outputs": [],
   "source": [
    "tar = raw_RON[ini_pop.index]-(raw_RON[ini_pop.index]-y[ini_pop.index])*0.7"
   ]
  },
  {
   "cell_type": "code",
   "execution_count": 131,
   "metadata": {},
   "outputs": [
    {
     "data": {
      "text/plain": [
       "array([2], dtype=int64)"
      ]
     },
     "execution_count": 131,
     "metadata": {},
     "output_type": "execute_result"
    }
   ],
   "source": [
    "np.array(tar[np.greater(fun(position,ron),tar)].index)"
   ]
  },
  {
   "cell_type": "code",
   "execution_count": 133,
   "metadata": {},
   "outputs": [],
   "source": [
    "RONS = raw_RON.unique()"
   ]
  },
  {
   "cell_type": "code",
   "execution_count": 139,
   "metadata": {},
   "outputs": [],
   "source": [
    "dics = {}\n",
    "for RON in RONS:\n",
    "    dic = ['S-ZORB.PC_1001A.PV',\n",
    "     'S-ZORB.FC_1201.PV',\n",
    "     'S-ZORB.PT_1604.DACA',\n",
    "     'S-ZORB.FT_1001.PV',\n",
    "     'S-ZORB.FT_3702.DACA',\n",
    "     'S-ZORB.LT_1002.DACA',\n",
    "     'S-ZORB.TE_1501.DACA',\n",
    "     'S-ZORB.TE_5008.DACA',\n",
    "     'S-ZORB.TE_1105.PV',\n",
    "     'S-ZORB.FT_1504.DACA.PV',\n",
    "     'S-ZORB.PDT_2606.DACA',\n",
    "     'S-ZORB.FC_1203.PV',\n",
    "     'S-ZORB.TE_5202.PV',\n",
    "     'S-ZORB.FC_5001.DACA',\n",
    "     'S-ZORB.FT_1003.PV',\n",
    "     'S-ZORB.FT_9301.PV',\n",
    "     'RON_of_raw_material']\n",
    "    ini_pop = pd.DataFrame(columns=dic)\n",
    "    df = X[X['RON_of_raw_material']==RON][dic]\n",
    "    ini_pop = ini_pop.append(df)\n",
    "    nums = ini_pop.iloc[:,:-1].values\n",
    "    ron = ini_pop['RON_of_raw_material'].values[:,np.newaxis]\n",
    "    position = pso(nums,ron,20000,bound)\n",
    "    target = raw_RON[ini_pop.index]-(raw_RON[ini_pop.index]-y[ini_pop.index])*0.7\n",
    "    optim = fun(position,ron)\n",
    "    dics[RON] = np.array(target[np.greater(optim,target)].index)"
   ]
  },
  {
   "cell_type": "code",
   "execution_count": 140,
   "metadata": {},
   "outputs": [
    {
     "data": {
      "text/plain": [
       "{90.6: array([  0,  70, 107, 120, 192, 221], dtype=int64),\n",
       " 90.5: array([  7,  88, 109, 112, 222, 226, 227, 231, 239, 248, 256], dtype=int64),\n",
       " 90.7: array([2], dtype=int64),\n",
       " 90.4: array([  3,   6, 156, 224, 225, 228, 232, 247, 251, 301, 314], dtype=int64),\n",
       " 89.6: array([  4,  22,  42,  46,  49,  50,  55, 127, 128, 205, 267, 281],\n",
       "       dtype=int64),\n",
       " 91.0: array([  5,  99, 105, 114, 115, 214, 220], dtype=int64),\n",
       " 90.2: array([  9,  10,  11,  48,  52, 124, 160, 176, 235, 236, 249, 257],\n",
       "       dtype=int64),\n",
       " 89.2: array([ 12,  25,  29,  40,  59, 133, 134, 157, 206, 278, 320, 321],\n",
       "       dtype=int64),\n",
       " 86.8: array([13], dtype=int64),\n",
       " 87.8: array([ 14, 150], dtype=int64),\n",
       " 88.4: array([15, 74], dtype=int64),\n",
       " 87.2: array([16, 85], dtype=int64),\n",
       " 88.0: array([17, 68], dtype=int64),\n",
       " 88.2: array([148], dtype=int64),\n",
       " 88.8: array([ 19,  63, 163, 186], dtype=int64),\n",
       " 88.1: array([], dtype=int64),\n",
       " 89.0: array([ 23,  27,  61,  66, 145, 168, 283, 288, 289], dtype=int64),\n",
       " 89.3: array([ 24,  72,  82, 137, 164, 196, 268, 284, 285, 286], dtype=int64),\n",
       " 88.7: array([ 26,  34,  57,  65,  69,  75,  81, 142, 144, 147, 287], dtype=int64),\n",
       " 89.7: array([ 28,  39,  44,  60, 129, 165, 181, 201, 202, 203, 204, 230, 263,\n",
       "        265, 270, 272, 292, 296, 316, 317], dtype=int64),\n",
       " 89.1: array([ 30,  37,  62,  79, 131, 136, 154, 170, 290], dtype=int64),\n",
       " 88.5: array([ 31,  67, 139], dtype=int64),\n",
       " 87.5: array([ 35, 152, 189, 190], dtype=int64),\n",
       " 89.4: array([ 36,  56,  58, 130, 132, 158, 159, 173, 182, 198, 207, 266, 273,\n",
       "        282, 308, 322, 323], dtype=int64),\n",
       " 89.5: array([ 38,  43,  45, 167, 277, 315, 319], dtype=int64),\n",
       " 89.8: array([ 41,  54, 155, 172, 177, 179, 253, 298, 300, 310, 318], dtype=int64),\n",
       " 90.0: array([ 47,  87, 180, 199, 234, 274, 276, 294], dtype=int64),\n",
       " 90.1: array([ 51,  53,  76,  77,  90, 123, 125, 126, 175, 185, 223, 240, 250,\n",
       "        259, 306, 309, 311], dtype=int64),\n",
       " 88.3: array([], dtype=int64),\n",
       " 90.8: array([ 71, 122, 215, 216], dtype=int64),\n",
       " 89.9: array([ 78, 197, 200, 242, 252, 260, 275, 279, 280, 297, 313, 324],\n",
       "       dtype=int64),\n",
       " 87.6: array([ 83, 140], dtype=int64),\n",
       " 86.9: array([84], dtype=int64),\n",
       " 91.6: array([], dtype=int64),\n",
       " 91.5: array([], dtype=int64),\n",
       " 91.3: array([], dtype=int64),\n",
       " 91.1: array([], dtype=int64),\n",
       " 91.7: array([], dtype=int64),\n",
       " 91.4: array([], dtype=int64),\n",
       " 91.2: array([106], dtype=int64),\n",
       " 90.9: array([111], dtype=int64),\n",
       " 90.3: array([121, 195, 229, 233, 237, 255, 258, 261, 262, 299, 302, 312],\n",
       "       dtype=int64),\n",
       " 88.6: array([135, 143, 153], dtype=int64),\n",
       " 85.3: array([141], dtype=int64),\n",
       " 87.9: array([], dtype=int64),\n",
       " 87.3: array([188], dtype=int64)}"
      ]
     },
     "execution_count": 140,
     "metadata": {},
     "output_type": "execute_result"
    }
   ],
   "source": [
    "dics"
   ]
  },
  {
   "cell_type": "code",
   "execution_count": 149,
   "metadata": {},
   "outputs": [],
   "source": [
    "ini_pop = pd.DataFrame(columns=dic)\n",
    "df = X[X['RON_of_raw_material']==89.4][dic]\n",
    "ini_pop = ini_pop.append(df)\n",
    "nums = ini_pop.iloc[:,:-1].values\n",
    "ron = ini_pop['RON_of_raw_material'].values[:,np.newaxis]\n",
    "position = pso(nums,ron,20000,bound)\n",
    "target = raw_RON[ini_pop.index]-(raw_RON[ini_pop.index]-y[ini_pop.index])*0.7\n",
    "optim = fun(position,ron)"
   ]
  },
  {
   "cell_type": "code",
   "execution_count": 142,
   "metadata": {},
   "outputs": [
    {
     "data": {
      "text/plain": [
       "array([  7,  88, 109, 112, 222, 226, 227, 231, 239, 248, 256], dtype=int64)"
      ]
     },
     "execution_count": 142,
     "metadata": {},
     "output_type": "execute_result"
    }
   ],
   "source": []
  },
  {
   "cell_type": "code",
   "execution_count": 150,
   "metadata": {},
   "outputs": [
    {
     "data": {
      "text/plain": [
       "36     88.483\n",
       "56     88.630\n",
       "58     88.175\n",
       "130    88.280\n",
       "132    88.483\n",
       "158    88.546\n",
       "159    88.686\n",
       "173    88.553\n",
       "182    88.672\n",
       "198    88.623\n",
       "207    88.413\n",
       "208    88.693\n",
       "266    88.532\n",
       "273    88.483\n",
       "282    88.672\n",
       "308    88.644\n",
       "322    88.455\n",
       "323    88.504\n",
       "Name: RON_of_raw_material, dtype: float64"
      ]
     },
     "execution_count": 150,
     "metadata": {},
     "output_type": "execute_result"
    }
   ],
   "source": [
    "target"
   ]
  },
  {
   "cell_type": "code",
   "execution_count": 151,
   "metadata": {},
   "outputs": [
    {
     "data": {
      "text/plain": [
       "array([88.73310419, 88.73748269, 88.73413579, 88.73748269, 88.73748269,\n",
       "       88.73748269, 88.73054727, 88.72984427, 88.73748269, 88.73536526,\n",
       "       88.73467308, 88.73536526, 88.73748269, 88.73584699, 88.69982873,\n",
       "       88.71278315, 88.73413579, 88.72831327])"
      ]
     },
     "execution_count": 151,
     "metadata": {},
     "output_type": "execute_result"
    }
   ],
   "source": [
    "optim"
   ]
  },
  {
   "cell_type": "code",
   "execution_count": 152,
   "metadata": {},
   "outputs": [
    {
     "data": {
      "text/plain": [
       "array([-1.25000000e+02,  1.16766671e+02,  3.00000000e-01,  1.22146665e+02,\n",
       "        1.57969502e+01,  1.60085287e+00,  2.24081879e+01,  6.25259391e+01,\n",
       "        7.88350806e+01,  2.52495180e+03,  1.84564414e+01,  9.87971337e+00,\n",
       "        3.43524904e+01,  1.66050049e+03,  7.02680068e+01,  1.64437348e+03])"
      ]
     },
     "execution_count": 152,
     "metadata": {},
     "output_type": "execute_result"
    }
   ],
   "source": [
    "position[4]"
   ]
  },
  {
   "cell_type": "code",
   "execution_count": 153,
   "metadata": {},
   "outputs": [
    {
     "data": {
      "text/plain": [
       "array([4.65066624, 4.67356495, 4.56804383, 4.65066624, 4.65066624,\n",
       "       4.65066624, 4.65066624, 4.65066624, 4.65066624, 4.67356495,\n",
       "       4.65066624, 4.65066624, 4.65066624, 4.65066624, 4.65690611,\n",
       "       4.65066624, 4.65066624, 4.67356495])"
      ]
     },
     "execution_count": 153,
     "metadata": {},
     "output_type": "execute_result"
    }
   ],
   "source": [
    "model_Sulfur.predict(np.concatenate([position,ron],axis=1))"
   ]
  },
  {
   "cell_type": "code",
   "execution_count": 147,
   "metadata": {},
   "outputs": [
    {
     "data": {
      "text/plain": [
       "array([-1.18082450e+01,  1.16889872e+02,  3.00000000e-01,  1.16906379e+02,\n",
       "        1.63293312e+01, -4.96570417e+00,  3.00000000e+01,  6.24654077e+01,\n",
       "        5.66125067e+01,  2.57830875e+03,  1.49779784e+01,  1.50000000e+01,\n",
       "        3.00000000e+01,  2.29996391e+03,  4.82311215e+01,  1.64351589e+03])"
      ]
     },
     "execution_count": 147,
     "metadata": {},
     "output_type": "execute_result"
    }
   ],
   "source": [
    "position[1]"
   ]
  },
  {
   "cell_type": "code",
   "execution_count": 148,
   "metadata": {},
   "outputs": [
    {
     "data": {
      "text/plain": [
       "array([-1.18509585e+01,  1.16938307e+02,  3.00000000e-01,  1.16687665e+02,\n",
       "        1.63486502e+01, -4.28958926e+00,  3.00000000e+01,  6.24708905e+01,\n",
       "        5.66220175e+01,  2.55953456e+03,  1.56062540e+01,  1.50000000e+01,\n",
       "        3.00000000e+01,  2.29976327e+03,  4.82066537e+01,  1.64333015e+03])"
      ]
     },
     "execution_count": 148,
     "metadata": {},
     "output_type": "execute_result"
    }
   ],
   "source": [
    "position[4]"
   ]
  },
  {
   "cell_type": "code",
   "execution_count": 154,
   "metadata": {},
   "outputs": [
    {
     "data": {
      "text/plain": [
       "array([89.07364903, 89.15913814, 89.35472023, 89.11444017, 88.37056832,\n",
       "       89.80454013, 89.22442446, 89.24893839, 89.188042  , 89.23138427,\n",
       "       88.83167675, 88.78583675, 87.74337721, 86.09402195, 86.17413133,\n",
       "       86.59630918, 86.30034784, 86.33104154, 86.59253127, 87.63551413,\n",
       "       86.5547904 , 86.68797798, 88.18413468, 87.57158189, 87.85876115,\n",
       "       87.93286474, 87.2969024 , 87.72438737, 88.26865516, 87.99771317,\n",
       "       87.57447995, 87.17966294, 87.06074548, 86.64097828, 87.47978662,\n",
       "       86.45881907, 87.99889164, 87.87136041, 88.27288014, 88.29165008,\n",
       "       87.81946782, 88.55383381, 88.27700534, 88.21462732, 88.37494611,\n",
       "       88.28166911, 88.32090788, 88.6924755 , 89.03162022, 88.47172991,\n",
       "       88.46260394, 88.8660467 , 88.9051756 , 88.92061738, 88.6101844 ,\n",
       "       88.43531843, 88.17570281, 87.35410701, 87.99944187, 87.87538108,\n",
       "       88.30596693, 87.41969497, 87.59513129, 87.69758616, 87.03332591,\n",
       "       87.38846972, 87.71798795, 87.17102171, 86.50344267, 86.99086064,\n",
       "       88.91847643, 89.33953766, 87.84025163, 86.87389605, 86.91226594,\n",
       "       87.14025068, 88.76751081, 88.75208034, 88.35271909, 87.78850114,\n",
       "       86.65962325, 87.27638498, 87.86582589, 86.3236019 , 86.58093483,\n",
       "       86.08833244, 89.39780648, 88.96220706, 89.44616711, 89.43136662,\n",
       "       89.09373703, 89.43150033, 90.05727131, 89.96635608, 90.08258277,\n",
       "       90.05167349, 90.03726537, 90.00064418, 89.96194344, 89.85631549,\n",
       "       89.92837026, 89.91569695, 90.00080123, 90.01561888, 89.78114049,\n",
       "       89.77003426, 89.73813014, 89.19012105, 89.93083456, 89.26181183,\n",
       "       89.25028526, 89.68149891, 89.23920816, 89.74881247, 89.80725103,\n",
       "       89.7411647 , 89.84883914, 89.46814149, 89.5923409 , 89.71544933,\n",
       "       89.06418252, 89.15757809, 89.50276982, 88.8947404 , 89.05563028,\n",
       "       89.06707908, 88.97744436, 88.40049699, 88.31194941, 88.3289423 ,\n",
       "       87.82836816, 87.55142872, 87.90277659, 87.76935469, 87.56736681,\n",
       "       87.10927298, 87.58884695, 87.83272285, 87.19363209, 87.10854113,\n",
       "       86.64362099, 86.0337657 , 87.22886591, 87.18008141, 87.45315643,\n",
       "       87.47200871, 87.08181007, 87.36242311, 86.24840933, 86.63952078,\n",
       "       86.20633458, 86.41791873, 86.19438317, 87.02099554, 87.61178306,\n",
       "       88.50468585, 89.01155346, 88.01353968, 88.11457029, 88.33406231,\n",
       "       88.93350123, 88.94410364, 88.7057457 , 87.93271495, 88.21947062,\n",
       "       88.37931743, 88.70041948, 88.38854049, 87.83284002, 87.68137792,\n",
       "       88.10770318, 87.95269057, 88.42768685, 88.38262371, 88.80724644,\n",
       "       89.08736616, 89.2033813 , 88.65990953, 89.29742306, 88.72479838,\n",
       "       88.81169826, 88.6614579 , 88.39039655, 88.78450366, 88.34490951,\n",
       "       88.9589188 , 87.76110772, 87.07706754, 86.22178322, 86.47239912,\n",
       "       86.27148164, 86.43051668, 89.13670965, 89.39549364, 89.40621267,\n",
       "       89.13529103, 88.17237598, 88.51337829, 88.28796889, 88.72235777,\n",
       "       88.4707055 , 88.43724546, 88.3959403 , 88.34659248, 88.40333028,\n",
       "       88.34366906, 88.04966362, 88.10041273, 88.31744738, 88.64340687,\n",
       "       89.77013872, 89.75261953, 89.79495265, 89.82381825, 89.7789552 ,\n",
       "       89.58358989, 89.55689416, 89.47659675, 89.48666613, 89.19511459,\n",
       "       89.76218738, 89.17269597, 89.17300663, 89.04249916, 89.15602995,\n",
       "       89.16257932, 89.18629296, 89.17789224, 89.11953266, 89.06687525,\n",
       "       88.60584399, 89.17149471, 89.17093085, 89.07941451, 88.87008359,\n",
       "       89.09839835, 89.12120358, 89.15639519, 89.28577411, 89.30821523,\n",
       "       89.2153422 , 89.23813924, 88.92777656, 89.2681396 , 89.93275922,\n",
       "       89.51785248, 89.33848282, 89.20361364, 89.17219171, 89.02465842,\n",
       "       89.04416545, 89.07298948, 88.66990907, 88.61071447, 88.85263945,\n",
       "       89.17733698, 89.24996883, 89.06083172, 88.99552988, 89.00712668,\n",
       "       88.67403757, 89.04704261, 89.03845949, 88.43871523, 88.73418127,\n",
       "       88.56077652, 88.17347189, 88.33752013, 88.11486385, 88.74736092,\n",
       "       88.4016741 , 88.68093452, 88.47144601, 88.09229167, 88.72689404,\n",
       "       88.66489487, 88.69697351, 88.38154164, 88.13630702, 88.699632  ,\n",
       "       88.73235145, 88.49891854, 88.30010759, 87.96447517, 88.17208611,\n",
       "       88.18490535, 88.21032289, 87.40616697, 87.6764421 , 87.77577322,\n",
       "       87.85229833, 87.4236369 , 88.55404022, 88.77502811, 88.73432806,\n",
       "       88.6719436 , 88.55794263, 88.70075156, 88.66926566, 88.98774428,\n",
       "       88.6350286 , 89.12284142, 88.9151262 , 88.71851844, 89.30828386,\n",
       "       89.62513052, 89.07216222, 88.83883124, 88.36930921, 88.95919409,\n",
       "       88.61514338, 89.02319679, 89.05080681, 88.77617912, 89.13763563,\n",
       "       88.44316413, 88.6045701 , 88.51878877, 88.60232077, 88.29653527,\n",
       "       88.13928664, 88.03249427, 88.29964588, 88.15194098, 88.72707824])"
      ]
     },
     "execution_count": 154,
     "metadata": {},
     "output_type": "execute_result"
    }
   ],
   "source": [
    "model_RON.predict(X[dic])"
   ]
  },
  {
   "cell_type": "code",
   "execution_count": 155,
   "metadata": {},
   "outputs": [
    {
     "data": {
      "text/plain": [
       "array([3.8974242 , 3.8993553 , 3.89002764, 3.84265673, 3.89719185,\n",
       "       3.90987308, 3.90987308, 4.02082441, 3.90545799, 3.96746199,\n",
       "       3.95614037, 3.9514181 , 3.98741302, 3.95995257, 3.92970548,\n",
       "       3.92801644, 3.86134789, 3.98469408, 4.05141113, 4.01489555,\n",
       "       3.99173992, 3.95327579, 3.86618668, 3.85168179, 3.91461704,\n",
       "       3.94052423, 3.92443712, 3.86332009, 3.91312776, 3.94045531,\n",
       "       4.12077047, 3.96802507, 3.93513697, 3.97704191, 4.0168115 ,\n",
       "       3.92737376, 3.96380281, 3.91166275, 4.00164792, 4.00393487,\n",
       "       3.91048172, 4.1141006 , 4.09256479, 4.10014201, 4.15694694,\n",
       "       3.98143718, 4.15331414, 4.26890173, 4.24522813, 4.24678232,\n",
       "       4.20017395, 4.08843517, 4.24382352, 4.23193266, 4.15814962,\n",
       "       4.15995279, 4.14516149, 4.10812244, 4.00959795, 4.10281763,\n",
       "       3.91213098, 3.93231691, 3.99472848, 3.90515581, 3.83061735,\n",
       "       3.8764985 , 3.83974368, 3.86061139, 3.84456072, 3.89900779,\n",
       "       3.84526325, 3.86114494, 3.94810425, 3.94771891, 3.95196492,\n",
       "       3.89431799, 3.8172879 , 4.0666165 , 3.89839646, 3.92539001,\n",
       "       3.89721095, 3.86250163, 4.02130379, 3.94677119, 3.89426438,\n",
       "       3.95348128, 3.98031734, 3.92086681, 3.92303108, 3.89562243,\n",
       "       3.93179409, 3.91611199, 3.9075678 , 3.9223477 , 3.93725945,\n",
       "       3.89864513, 3.88497112, 3.85239063, 3.86435086, 3.8595681 ,\n",
       "       3.91601985, 3.85825162, 3.85589592, 3.88579302, 3.86167411,\n",
       "       3.84297305, 3.84603113, 3.90454955, 3.85888755, 3.82685167,\n",
       "       3.82162056, 3.87265599, 3.8792377 , 3.90191115, 3.88947623,\n",
       "       3.92743039, 3.83882236, 3.91842334, 3.88373738, 3.88327209,\n",
       "       3.86959027, 3.80941073, 3.85476246, 3.82483815, 3.86335594,\n",
       "       3.85779794, 3.85196952, 3.79953028, 3.81718796, 3.82719959,\n",
       "       3.82059937, 3.78969523, 3.80271264, 3.82474378, 3.8075979 ,\n",
       "       3.8075979 , 3.806384  , 3.86765795, 3.80926469, 3.88485105,\n",
       "       3.84040508, 3.85969979, 3.80682423, 3.80343432, 3.84658778,\n",
       "       3.84014182, 3.90062304, 3.81184584, 3.81600686, 3.80131394,\n",
       "       3.81555246, 3.90897322, 3.91088891, 3.87226326, 3.84972841,\n",
       "       3.90995259, 3.87628969, 3.84565489, 3.86644749, 3.9034901 ,\n",
       "       3.90123246, 3.92008361, 3.97945823, 3.8613402 , 3.87391837,\n",
       "       3.91850621, 3.95102093, 3.90125205, 3.86878885, 3.85061653,\n",
       "       3.89432206, 3.87665283, 3.92208169, 3.97561274, 3.97224017,\n",
       "       4.06633959, 4.06043661, 3.99851626, 4.09718587, 3.98108155,\n",
       "       4.04770664, 3.95978969, 3.92180831, 4.00889261, 3.9676049 ,\n",
       "       3.83666685, 3.87858073, 3.94433879, 3.92100828, 3.9448889 ,\n",
       "       3.93077318, 3.90974179, 4.30418021, 4.2400833 , 4.27234741,\n",
       "       4.23393822, 4.14766902, 4.14146855, 4.1289049 , 4.29494969,\n",
       "       4.11004941, 4.08268094, 4.13089214, 4.11714559, 4.13020795,\n",
       "       4.09040788, 4.02644495, 4.01953494, 4.22615435, 4.27099895,\n",
       "       4.4792675 , 4.48798596, 4.46827182, 4.46810669, 4.27750601,\n",
       "       4.28462089, 4.21943427, 4.13888882, 4.09056723, 4.09056723,\n",
       "       4.21235005, 4.15671977, 4.09713535, 4.0859362 , 4.12823393,\n",
       "       4.1036129 , 4.26863663, 4.16976544, 4.34303308, 4.19414722,\n",
       "       4.10955034, 4.17602007, 4.11917572, 4.11917572, 4.11917572,\n",
       "       4.11917572, 4.11917572, 4.11917572, 4.11917572, 4.11917572,\n",
       "       4.11917572, 4.11610872, 4.09839678, 3.96621892, 3.97046335,\n",
       "       4.03853418, 4.05345284, 4.08410042, 4.16908221, 4.02905927,\n",
       "       4.03186381, 4.02678909, 4.06699981, 4.03938243, 4.01411871,\n",
       "       3.97992449, 4.08853005, 4.19514923, 4.18647338, 4.21970355,\n",
       "       4.2666285 , 4.29291367, 4.29291367, 4.21299046, 4.32379917,\n",
       "       4.35087669, 4.30923553, 4.28969097, 4.25471796, 4.21824329,\n",
       "       4.24596347, 4.31681845, 4.23130181, 4.17476148, 4.23710276,\n",
       "       4.33676217, 4.36478995, 4.31025054, 4.32970514, 4.42750984,\n",
       "       4.29363366, 4.45217672, 4.62049186, 4.67552145, 4.53631018,\n",
       "       4.57706835, 4.60406264, 4.58040103, 4.56750652, 4.5731746 ,\n",
       "       4.57289621, 4.56327509, 4.64809296, 4.59311381, 4.64809296,\n",
       "       4.61679477, 4.58078038, 4.61207857, 4.48301574, 4.58078038,\n",
       "       4.60371034, 4.48821678, 4.59194119, 4.59254953, 4.59254953,\n",
       "       4.60025835, 4.61329141, 4.59562732, 4.60340168, 4.66984128,\n",
       "       4.70420137, 4.70420137, 4.70420137, 4.49826411, 4.69252903,\n",
       "       4.73549957, 4.70420137, 4.58109434, 4.57889166, 4.5827249 ,\n",
       "       4.57559288, 4.44653622, 4.56995721, 4.56643565, 4.70429819])"
      ]
     },
     "execution_count": 155,
     "metadata": {},
     "output_type": "execute_result"
    }
   ],
   "source": [
    "model_Sulfur.predict(X[dic])"
   ]
  },
  {
   "cell_type": "code",
   "execution_count": 156,
   "metadata": {},
   "outputs": [],
   "source": [
    "import seaborn as sns"
   ]
  },
  {
   "cell_type": "markdown",
   "metadata": {},
   "source": [
    "## 第五步可视化"
   ]
  },
  {
   "cell_type": "code",
   "execution_count": 160,
   "metadata": {},
   "outputs": [
    {
     "data": {
      "text/plain": [
       "S-ZORB.PC_1001A.PV           0.3506\n",
       "S-ZORB.FC_1201.PV          114.1334\n",
       "S-ZORB.PT_1604.DACA          0.1756\n",
       "S-ZORB.FT_1001.PV          122.7257\n",
       "S-ZORB.FT_3702.DACA          0.0000\n",
       "S-ZORB.LT_1002.DACA         -4.9701\n",
       "S-ZORB.TE_1501.DACA         22.4069\n",
       "S-ZORB.TE_5008.DACA         62.3974\n",
       "S-ZORB.TE_1105.PV           54.7885\n",
       "S-ZORB.FT_1504.DACA.PV    2695.4880\n",
       "S-ZORB.PDT_2606.DACA        10.1016\n",
       "S-ZORB.FC_1203.PV           11.2819\n",
       "S-ZORB.TE_5202.PV           34.4525\n",
       "S-ZORB.FC_5001.DACA       2291.2150\n",
       "S-ZORB.FT_1003.PV           50.5188\n",
       "S-ZORB.FT_9301.PV         2310.4410\n",
       "RON_of_raw_material         89.4000\n",
       "Name: 132, dtype: float64"
      ]
     },
     "execution_count": 160,
     "metadata": {},
     "output_type": "execute_result"
    }
   ],
   "source": [
    "x_133 = X.loc[132,dic]\n",
    "x_133"
   ]
  },
  {
   "cell_type": "code",
   "execution_count": 165,
   "metadata": {},
   "outputs": [],
   "source": [
    "S_ZORB_PC_1001A_PV = np.linspace(-125+0.3506,0.3506,250)"
   ]
  },
  {
   "cell_type": "code",
   "execution_count": 178,
   "metadata": {},
   "outputs": [
    {
     "name": "stderr",
     "output_type": "stream",
     "text": [
      "D:\\ProgramData\\Anaconda3\\lib\\site-packages\\lightgbm\\basic.py:546: UserWarning: Converting data to scipy sparse matrix.\n",
      "  warnings.warn('Converting data to scipy sparse matrix.')\n"
     ]
    }
   ],
   "source": [
    "sulfurs = []\n",
    "rons_133 = []\n",
    "for i in S_ZORB_PC_1001A_PV:\n",
    "    x_133['S-ZORB.PC_1001A.PV'] = i\n",
    "    sulfurs.append(model_Sulfur.predict(x_133))\n",
    "    rons_133.append(model_RON.predict(x_133))"
   ]
  },
  {
   "cell_type": "code",
   "execution_count": 181,
   "metadata": {},
   "outputs": [
    {
     "data": {
      "image/png": "[encoded data removed]",
      "text/plain": [
       "<Figure size 432x288 with 2 Axes>"
      ]
     },
     "metadata": {
      "needs_background": "light"
     },
     "output_type": "display_data"
    }
   ],
   "source": [
    "plt.scatter(S_ZORB_PC_1001A_PV,rons_133,c=sulfurs)\n",
    "plt.colorbar()\n",
    "plt.title('S-ZORB.PC_1001A.PV')\n",
    "plt.show()"
   ]
  },
  {
   "cell_type": "code",
   "execution_count": 182,
   "metadata": {},
   "outputs": [
    {
     "data": {
      "image/png": "[encoded data removed]",
      "text/plain": [
       "<Figure size 432x288 with 2 Axes>"
      ]
     },
     "metadata": {
      "needs_background": "light"
     },
     "output_type": "display_data"
    }
   ],
   "source": [
    "fig,ax1 = plt.subplots()\n",
    "plt.plot(S_ZORB_PC_1001A_PV,rons_133,'ro',label='ron')\n",
    "plt.grid(True)\n",
    "plt.legend(loc=8)\n",
    "plt.axis('tight')\n",
    "plt.xlabel('S-ZORB.PC_1001A.PV')\n",
    "plt.ylabel('ron')\n",
    "plt.title('ron vs sulfur')\n",
    "ax2 = ax1.twinx()\n",
    "plt.plot(S_ZORB_PC_1001A_PV,sulfurs,'bo',label='sulfur')\n",
    "plt.grid(True)\n",
    "plt.legend(loc=0)\n",
    "plt.ylabel('sulfur')\n",
    "plt.show()"
   ]
  },
  {
   "cell_type": "code",
   "execution_count": 183,
   "metadata": {},
   "outputs": [
    {
     "data": {
      "text/plain": [
       "array([54.7885    , 55.83197826, 56.87545652, 57.91893478, 58.96241304,\n",
       "       60.0058913 , 61.04936957, 62.09284783, 63.13632609, 64.17980435,\n",
       "       65.22328261, 66.26676087, 67.31023913, 68.35371739, 69.39719565,\n",
       "       70.44067391, 71.48415217, 72.52763043, 73.5711087 , 74.61458696,\n",
       "       75.65806522, 76.70154348, 77.74502174, 78.7885    ])"
      ]
     },
     "execution_count": 183,
     "metadata": {},
     "output_type": "execute_result"
    }
   ],
   "source": [
    "S_ZORB_TE_1105_PV = np.linspace(54.7885,78.7885,24)\n",
    "S_ZORB_TE_1105_PV"
   ]
  },
  {
   "cell_type": "code",
   "execution_count": 184,
   "metadata": {},
   "outputs": [
    {
     "name": "stderr",
     "output_type": "stream",
     "text": [
      "D:\\ProgramData\\Anaconda3\\lib\\site-packages\\lightgbm\\basic.py:546: UserWarning: Converting data to scipy sparse matrix.\n",
      "  warnings.warn('Converting data to scipy sparse matrix.')\n"
     ]
    }
   ],
   "source": [
    "sulfurs = []\n",
    "rons_133 = []\n",
    "for i in S_ZORB_TE_1105_PV:\n",
    "    x_133['S-ZORB.TE_1105.PV'] = i\n",
    "    sulfurs.append(model_Sulfur.predict(x_133))\n",
    "    rons_133.append(model_RON.predict(x_133))"
   ]
  },
  {
   "cell_type": "code",
   "execution_count": 185,
   "metadata": {},
   "outputs": [
    {
     "data": {
      "image/png": "[encoded data removed]",
      "text/plain": [
       "<Figure size 432x288 with 2 Axes>"
      ]
     },
     "metadata": {
      "needs_background": "light"
     },
     "output_type": "display_data"
    }
   ],
   "source": [
    "fig,ax1 = plt.subplots()\n",
    "plt.plot(S_ZORB_TE_1105_PV,rons_133,'ro',label='ron')\n",
    "plt.grid(True)\n",
    "plt.legend(loc=8)\n",
    "plt.axis('tight')\n",
    "plt.xlabel('S_ZORB_TE_1105_PV')\n",
    "plt.ylabel('ron')\n",
    "plt.title('ron vs sulfur')\n",
    "ax2 = ax1.twinx()\n",
    "plt.plot(S_ZORB_TE_1105_PV,sulfurs,'bo',label='sulfur')\n",
    "plt.grid(True)\n",
    "plt.legend(loc=0)\n",
    "plt.ylabel('sulfur')\n",
    "plt.show()"
   ]
  },
  {
   "cell_type": "code",
   "execution_count": 186,
   "metadata": {},
   "outputs": [
    {
     "name": "stderr",
     "output_type": "stream",
     "text": [
      "D:\\ProgramData\\Anaconda3\\lib\\site-packages\\lightgbm\\basic.py:546: UserWarning: Converting data to scipy sparse matrix.\n",
      "  warnings.warn('Converting data to scipy sparse matrix.')\n"
     ]
    }
   ],
   "source": [
    "S_ZORB_FC_5001_DACA = np.linspace(1661.2150,2291.2150,630)\n",
    "sulfurs = []\n",
    "rons_133 = []\n",
    "for i in S_ZORB_FC_5001_DACA:\n",
    "    x_133['S-ZORB.FC_5001.DACA'] = i\n",
    "    sulfurs.append(model_Sulfur.predict(x_133))\n",
    "    rons_133.append(model_RON.predict(x_133))"
   ]
  },
  {
   "cell_type": "code",
   "execution_count": 188,
   "metadata": {},
   "outputs": [
    {
     "data": {
      "image/png": "[encoded data removed]",
      "text/plain": [
       "<Figure size 432x288 with 2 Axes>"
      ]
     },
     "metadata": {
      "needs_background": "light"
     },
     "output_type": "display_data"
    }
   ],
   "source": [
    "fig,ax1 = plt.subplots()\n",
    "plt.plot(S_ZORB_FC_5001_DACA,rons_133,'ro',label='ron')\n",
    "plt.grid(True)\n",
    "plt.legend(loc=8)\n",
    "plt.axis('tight')\n",
    "plt.xlabel('S-ZORB.FC_5001.DACA')\n",
    "plt.ylabel('ron')\n",
    "plt.title('ron vs sulfur')\n",
    "ax2 = ax1.twinx()\n",
    "plt.plot(S_ZORB_FC_5001_DACA,sulfurs,'bo',label='sulfur')\n",
    "plt.grid(True)\n",
    "plt.legend(loc=0)\n",
    "plt.ylabel('sulfur')\n",
    "plt.show()"
   ]
  },
  {
   "cell_type": "code",
   "execution_count": 199,
   "metadata": {},
   "outputs": [],
   "source": [
    "S_ZORB_FC_5001_DACA = np.linspace(1661.2150,2291.2150,630)\n",
    "S_ZORB_PC_1001A_PV = np.linspace(-125+0.3506,0.3506,250)"
   ]
  },
  {
   "cell_type": "code",
   "execution_count": 195,
   "metadata": {},
   "outputs": [
    {
     "name": "stderr",
     "output_type": "stream",
     "text": [
      "D:\\ProgramData\\Anaconda3\\lib\\site-packages\\lightgbm\\basic.py:546: UserWarning: Converting data to scipy sparse matrix.\n",
      "  warnings.warn('Converting data to scipy sparse matrix.')\n"
     ]
    }
   ],
   "source": [
    "x_133 = X.loc[132,dic]\n",
    "s = np.zeros((630,250))\n",
    "r = np.zeros((630,250))\n",
    "for i in range(630):\n",
    "    for j in range(250):\n",
    "        x_133['S-ZORB.PC_1001A.PV'] = S_ZORB_FC_5001_DACA[i]\n",
    "        x_133['S-ZORB.FC_5001.DACA'] = S_ZORB_PC_1001A_PV[j]\n",
    "        s[i,j] = model_Sulfur.predict(x_133)\n",
    "        r[i,j] = model_RON.predict(x_133)"
   ]
  },
  {
   "cell_type": "code",
   "execution_count": 196,
   "metadata": {},
   "outputs": [
    {
     "data": {
      "text/plain": [
       "(630, 250)"
      ]
     },
     "execution_count": 196,
     "metadata": {},
     "output_type": "execute_result"
    }
   ],
   "source": [
    "s.shape"
   ]
  },
  {
   "cell_type": "code",
   "execution_count": 200,
   "metadata": {},
   "outputs": [],
   "source": [
    "S_ZORB_PC_1001A_PV,S_ZORB_FC_5001_DACA = np.meshgrid(S_ZORB_PC_1001A_PV,S_ZORB_FC_5001_DACA)"
   ]
  },
  {
   "cell_type": "code",
   "execution_count": 201,
   "metadata": {},
   "outputs": [
    {
     "data": {
      "text/plain": [
       "(630, 250)"
      ]
     },
     "execution_count": 201,
     "metadata": {},
     "output_type": "execute_result"
    }
   ],
   "source": [
    "S_ZORB_FC_5001_DACA.shape"
   ]
  },
  {
   "cell_type": "code",
   "execution_count": 202,
   "metadata": {},
   "outputs": [
    {
     "data": {
      "image/png": "[encoded data removed]",
      "text/plain": [
       "<Figure size 432x288 with 1 Axes>"
      ]
     },
     "metadata": {
      "needs_background": "light"
     },
     "output_type": "display_data"
    }
   ],
   "source": [
    "from mpl_toolkits.mplot3d import Axes3D\n",
    "fig = plt.figure()\n",
    "ax1 = plt.axes(projection='3d')\n",
    "ax1.scatter3D(S_ZORB_PC_1001A_PV,S_ZORB_FC_5001_DACA,s, cmap='Blues')\n",
    "plt.show()"
   ]
  },
  {
   "cell_type": "code",
   "execution_count": 3,
   "metadata": {},
   "outputs": [],
   "source": [
    "dics = {90.6: [  0,  70, 107, 120, 192, 221],\n",
    " 90.5: [  7,  88, 109, 112, 222, 226, 227, 231, 239, 248, 256],\n",
    " 90.7: [2],\n",
    " 90.4: [  3,   6, 156, 224, 225, 228, 232, 247, 251, 301, 314],\n",
    " 89.6: [  4,  22,  42,  46,  49,  50,  55, 127, 128, 205, 267, 281],\n",
    " 91.0: [  5,  99, 105, 114, 115, 214, 220],\n",
    " 90.2: [  9,  10,  11,  48,  52, 124, 160, 176, 235, 236, 249, 257],\n",
    " 89.2: [ 12,  25,  29,  40,  59, 133, 134, 157, 206, 278, 320, 321],\n",
    " 86.8: [13],\n",
    " 87.8: [ 14, 150],\n",
    " 88.4: [15, 74],\n",
    " 87.2: [16, 85],\n",
    " 88.0: [17, 68],\n",
    " 88.2: [148],\n",
    " 88.8: [ 19,  63, 163, 186],\n",
    " 89.0: [ 23,  27,  61,  66, 145, 168, 283, 288, 289],\n",
    " 89.3: [ 24,  72,  82, 137, 164, 196, 268, 284, 285, 286],\n",
    " 88.7: [ 26,  34,  57,  65,  69,  75,  81, 142, 144, 147, 287],\n",
    " 89.7: [ 28,  39,  44,  60, 129, 165, 181, 201, 202, 203, 204, 230, 263,265, 270, 272, 292, 296, 316, 317],\n",
    " 89.1: [ 30,  37,  62,  79, 131, 136, 154, 170, 290],\n",
    " 88.5: [ 31,  67, 139],\n",
    " 87.5: [ 35, 152, 189, 190],\n",
    " 89.4: [ 36,  56,  58, 130, 132, 158, 159, 173, 182, 198, 207, 266, 273,282, 308, 322, 323],\n",
    " 89.5: [ 38,  43,  45, 167, 277, 315, 319],\n",
    " 89.8: [ 41,  54, 155, 172, 177, 179, 253, 298, 300, 310, 318],\n",
    " 90.0: [ 47,  87, 180, 199, 234, 274, 276, 294],\n",
    " 90.1: [ 51,  53,  76,  77,  90, 123, 125, 126, 175, 185, 223, 240, 250,259, 306, 309, 311],\n",
    " 90.8: [ 71, 122, 215, 216],\n",
    " 89.9: [ 78, 197, 200, 242, 252, 260, 275, 279, 280, 297, 313, 324],\n",
    " 87.6: [ 83, 140],\n",
    " 86.9: [84],\n",
    " 91.2: [106],\n",
    " 90.9: [111],\n",
    " 90.3: [121, 195, 229, 233, 237, 255, 258, 261, 262, 299, 302, 312],\n",
    " 88.6: [135, 143, 153],\n",
    " 85.3: [141],\n",
    " 87.3: [188]}"
   ]
  },
  {
   "cell_type": "code",
   "execution_count": 4,
   "metadata": {},
   "outputs": [],
   "source": [
    "for _,v in dics.items():\n",
    "    for i in range(len(v)):\n",
    "        v[i] += 1"
   ]
  },
  {
   "cell_type": "code",
   "execution_count": 6,
   "metadata": {},
   "outputs": [],
   "source": [
    "ta = pd.Series(dics)"
   ]
  },
  {
   "cell_type": "code",
   "execution_count": 8,
   "metadata": {},
   "outputs": [],
   "source": [
    "ta.to_excel('my.xlsx')"
   ]
  },
  {
   "cell_type": "code",
   "execution_count": 9,
   "metadata": {},
   "outputs": [
    {
     "data": {
      "text/html": [
       "<div>\n",
       "<style scoped>\n",
       "    .dataframe tbody tr th:only-of-type {\n",
       "        vertical-align: middle;\n",
       "    }\n",
       "\n",
       "    .dataframe tbody tr th {\n",
       "        vertical-align: top;\n",
       "    }\n",
       "\n",
       "    .dataframe thead th {\n",
       "        text-align: right;\n",
       "    }\n",
       "</style>\n",
       "<table border=\"1\" class=\"dataframe\">\n",
       "  <thead>\n",
       "    <tr style=\"text-align: right;\">\n",
       "      <th></th>\n",
       "      <th>id</th>\n",
       "      <th>time</th>\n",
       "      <th>原料硫含量</th>\n",
       "      <th>原料辛烷值</th>\n",
       "      <th>饱和烃</th>\n",
       "      <th>烯烃</th>\n",
       "      <th>溴值</th>\n",
       "      <th>密度</th>\n",
       "      <th>产品硫含量</th>\n",
       "      <th>产品辛烷值</th>\n",
       "      <th>...</th>\n",
       "      <th>S-ZORB.CAL_1.CANGLIANG.PV</th>\n",
       "      <th>S-ZORB.FT_1006.DACA.PV</th>\n",
       "      <th>S-ZORB.FT_5204.DACA.PV</th>\n",
       "      <th>S-ZORB.FT_1006.TOTALIZERA.PV</th>\n",
       "      <th>S-ZORB.FT_5204.TOTALIZERA.PV</th>\n",
       "      <th>S-ZORB.FT_1503.DACA.PV</th>\n",
       "      <th>S-ZORB.FT_1503.TOTALIZERA.PV</th>\n",
       "      <th>S-ZORB.FT_1504.DACA.PV</th>\n",
       "      <th>S-ZORB.FT_1504.TOTALIZERA.PV</th>\n",
       "      <th>S-ZORB.PC_1001A.PV</th>\n",
       "    </tr>\n",
       "  </thead>\n",
       "  <tbody>\n",
       "    <tr>\n",
       "      <th>0</th>\n",
       "      <td>1</td>\n",
       "      <td>2020/5/26 8:00:00</td>\n",
       "      <td>188.0</td>\n",
       "      <td>90.6</td>\n",
       "      <td>53.23</td>\n",
       "      <td>24.40</td>\n",
       "      <td>61.49</td>\n",
       "      <td>726.09</td>\n",
       "      <td>3.2</td>\n",
       "      <td>89.22</td>\n",
       "      <td>...</td>\n",
       "      <td>2.0454</td>\n",
       "      <td>6368.7470</td>\n",
       "      <td>233.3108</td>\n",
       "      <td>83086802.0</td>\n",
       "      <td>832503.795</td>\n",
       "      <td>2216.4094</td>\n",
       "      <td>39063124.5</td>\n",
       "      <td>1840.1447</td>\n",
       "      <td>39608757.0</td>\n",
       "      <td>0.3533</td>\n",
       "    </tr>\n",
       "    <tr>\n",
       "      <th>1</th>\n",
       "      <td>2</td>\n",
       "      <td>2020/5/21 8:00:00</td>\n",
       "      <td>169.0</td>\n",
       "      <td>90.5</td>\n",
       "      <td>52.30</td>\n",
       "      <td>26.40</td>\n",
       "      <td>61.88</td>\n",
       "      <td>731.30</td>\n",
       "      <td>3.2</td>\n",
       "      <td>89.32</td>\n",
       "      <td>...</td>\n",
       "      <td>2.0260</td>\n",
       "      <td>6360.6453</td>\n",
       "      <td>242.3692</td>\n",
       "      <td>82318954.0</td>\n",
       "      <td>803462.665</td>\n",
       "      <td>2370.5874</td>\n",
       "      <td>38810581.5</td>\n",
       "      <td>1641.7326</td>\n",
       "      <td>39389299.0</td>\n",
       "      <td>0.3545</td>\n",
       "    </tr>\n",
       "    <tr>\n",
       "      <th>2</th>\n",
       "      <td>3</td>\n",
       "      <td>2020/5/19 8:00:00</td>\n",
       "      <td>177.0</td>\n",
       "      <td>90.7</td>\n",
       "      <td>52.30</td>\n",
       "      <td>26.31</td>\n",
       "      <td>61.72</td>\n",
       "      <td>729.61</td>\n",
       "      <td>3.2</td>\n",
       "      <td>89.32</td>\n",
       "      <td>...</td>\n",
       "      <td>1.9647</td>\n",
       "      <td>6504.9649</td>\n",
       "      <td>233.0769</td>\n",
       "      <td>82012004.0</td>\n",
       "      <td>791925.055</td>\n",
       "      <td>2326.4654</td>\n",
       "      <td>38693812.0</td>\n",
       "      <td>1600.6758</td>\n",
       "      <td>39312616.5</td>\n",
       "      <td>0.3502</td>\n",
       "    </tr>\n",
       "    <tr>\n",
       "      <th>3</th>\n",
       "      <td>4</td>\n",
       "      <td>2020/5/14 8:00:00</td>\n",
       "      <td>159.0</td>\n",
       "      <td>90.4</td>\n",
       "      <td>52.30</td>\n",
       "      <td>26.10</td>\n",
       "      <td>61.33</td>\n",
       "      <td>725.40</td>\n",
       "      <td>3.2</td>\n",
       "      <td>89.02</td>\n",
       "      <td>...</td>\n",
       "      <td>2.0390</td>\n",
       "      <td>6506.8250</td>\n",
       "      <td>238.3499</td>\n",
       "      <td>81231373.5</td>\n",
       "      <td>762863.810</td>\n",
       "      <td>2495.2236</td>\n",
       "      <td>38410862.5</td>\n",
       "      <td>1563.7122</td>\n",
       "      <td>39120204.5</td>\n",
       "      <td>0.3539</td>\n",
       "    </tr>\n",
       "    <tr>\n",
       "      <th>4</th>\n",
       "      <td>5</td>\n",
       "      <td>2020/5/12 8:00:00</td>\n",
       "      <td>173.0</td>\n",
       "      <td>89.6</td>\n",
       "      <td>52.24</td>\n",
       "      <td>26.67</td>\n",
       "      <td>61.33</td>\n",
       "      <td>725.43</td>\n",
       "      <td>3.2</td>\n",
       "      <td>88.32</td>\n",
       "      <td>...</td>\n",
       "      <td>1.9869</td>\n",
       "      <td>6560.2423</td>\n",
       "      <td>236.5762</td>\n",
       "      <td>80915707.5</td>\n",
       "      <td>751362.300</td>\n",
       "      <td>2807.7891</td>\n",
       "      <td>38283000.0</td>\n",
       "      <td>1554.3574</td>\n",
       "      <td>39045953.5</td>\n",
       "      <td>0.3581</td>\n",
       "    </tr>\n",
       "  </tbody>\n",
       "</table>\n",
       "<p>5 rows × 359 columns</p>\n",
       "</div>"
      ],
      "text/plain": [
       "   id               time  原料硫含量  原料辛烷值    饱和烃     烯烃     溴值      密度  产品硫含量  \\\n",
       "0   1  2020/5/26 8:00:00  188.0   90.6  53.23  24.40  61.49  726.09    3.2   \n",
       "1   2  2020/5/21 8:00:00  169.0   90.5  52.30  26.40  61.88  731.30    3.2   \n",
       "2   3  2020/5/19 8:00:00  177.0   90.7  52.30  26.31  61.72  729.61    3.2   \n",
       "3   4  2020/5/14 8:00:00  159.0   90.4  52.30  26.10  61.33  725.40    3.2   \n",
       "4   5  2020/5/12 8:00:00  173.0   89.6  52.24  26.67  61.33  725.43    3.2   \n",
       "\n",
       "   产品辛烷值  ...  S-ZORB.CAL_1.CANGLIANG.PV  S-ZORB.FT_1006.DACA.PV  \\\n",
       "0  89.22  ...                     2.0454               6368.7470   \n",
       "1  89.32  ...                     2.0260               6360.6453   \n",
       "2  89.32  ...                     1.9647               6504.9649   \n",
       "3  89.02  ...                     2.0390               6506.8250   \n",
       "4  88.32  ...                     1.9869               6560.2423   \n",
       "\n",
       "   S-ZORB.FT_5204.DACA.PV  S-ZORB.FT_1006.TOTALIZERA.PV  \\\n",
       "0                233.3108                    83086802.0   \n",
       "1                242.3692                    82318954.0   \n",
       "2                233.0769                    82012004.0   \n",
       "3                238.3499                    81231373.5   \n",
       "4                236.5762                    80915707.5   \n",
       "\n",
       "   S-ZORB.FT_5204.TOTALIZERA.PV  S-ZORB.FT_1503.DACA.PV  \\\n",
       "0                    832503.795               2216.4094   \n",
       "1                    803462.665               2370.5874   \n",
       "2                    791925.055               2326.4654   \n",
       "3                    762863.810               2495.2236   \n",
       "4                    751362.300               2807.7891   \n",
       "\n",
       "   S-ZORB.FT_1503.TOTALIZERA.PV  S-ZORB.FT_1504.DACA.PV  \\\n",
       "0                    39063124.5               1840.1447   \n",
       "1                    38810581.5               1641.7326   \n",
       "2                    38693812.0               1600.6758   \n",
       "3                    38410862.5               1563.7122   \n",
       "4                    38283000.0               1554.3574   \n",
       "\n",
       "   S-ZORB.FT_1504.TOTALIZERA.PV  S-ZORB.PC_1001A.PV  \n",
       "0                    39608757.0              0.3533  \n",
       "1                    39389299.0              0.3545  \n",
       "2                    39312616.5              0.3502  \n",
       "3                    39120204.5              0.3539  \n",
       "4                    39045953.5              0.3581  \n",
       "\n",
       "[5 rows x 359 columns]"
      ]
     },
     "execution_count": 9,
     "metadata": {},
     "output_type": "execute_result"
    }
   ],
   "source": [
    "data=pd.read_csv('data_final.csv')\n",
    "data.head()"
   ]
  },
  {
   "cell_type": "code",
   "execution_count": 10,
   "metadata": {},
   "outputs": [],
   "source": [
    "data.to_excel('data_final.xlsx')"
   ]
  },
  {
   "cell_type": "code",
   "execution_count": null,
   "metadata": {},
   "outputs": [],
   "source": []
  }
 ],
 "metadata": {
  "kernelspec": {
   "display_name": "Python 3",
   "language": "python",
   "name": "python3"
  },
  "language_info": {
   "codemirror_mode": {
    "name": "ipython",
    "version": 3
   },
   "file_extension": ".py",
   "mimetype": "text/x-python",
   "name": "python",
   "nbconvert_exporter": "python",
   "pygments_lexer": "ipython3",
   "version": "3.7.7"
  }
 },
 "nbformat": 4,
 "nbformat_minor": 4
}
